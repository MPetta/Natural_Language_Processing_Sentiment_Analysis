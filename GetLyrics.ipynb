{
 "cells": [
  {
   "cell_type": "markdown",
   "metadata": {},
   "source": [
    "# Scrape Genius.com and Spotify for Lyrics and Song Metadata"
   ]
  },
  {
   "cell_type": "markdown",
   "metadata": {},
   "source": [
    "The following uses the \"lyricGenious\" wrapper and Spotify API to gather data for analysis. Further analysis conducted in R. Author: Marc Petta \n",
    "\n",
    "## Get Lyrics from Genius.com"
   ]
  },
  {
   "cell_type": "code",
   "execution_count": null,
   "metadata": {},
   "outputs": [],
   "source": [
    "import lyricsgenius as genius\n",
    "import pandas as pd\n",
    "from datetime import datetime\n",
    "import re\n",
    "\n",
    "api = genius.Genius(\"Access Token Here\",sleep_time=0.01, verbose=False)\n",
    "\n",
    "all_songs = pd.read_csv(\"Aesop_AllSongs.csv\")\n",
    "all_song_data = pd.DataFrame()\n",
    "start_time = datetime.now()\n",
    "print(\"Started at {}\".format(start_time))\n",
    "for i in range(0, len(all_songs)):\n",
    "    rolling_pct = int((i/len(all_songs))*100)\n",
    "    print(str(rolling_pct) + \"% complete.\" + \" Collecting Record \" + str(i) +\" of \" +\n",
    "          str(len(all_songs)) +\". Year \" + str(all_songs.iloc[i]['Year']) + \".\" + \" Currently collecting \" + \n",
    "          all_songs.iloc[i]['Song Title'] + \" by \" + all_songs.iloc[i]['Artist'] + \" \"*50, end=\"\\r\")\n",
    "    song_title = all_songs.iloc[i]['Song Title']\n",
    "    song_title = re.sub(\" and \", \" & \", song_title)\n",
    "    artist_name = all_songs.iloc[i]['Artist']\n",
    "    artist_name = re.sub(\" and \", \" & \", artist_name)\n",
    "\n",
    "    try:\n",
    "        song = api.search_song(song_title, artist=artist_name)\n",
    "        song_album = song.album\n",
    "        song_album_url = song.album_url\n",
    "        featured_artists = song.featured_artists\n",
    "        song_lyrics = re.sub(\"\\n\", \" \", song.lyrics)\n",
    "        song_media = song.media\n",
    "        song_url = song.url\n",
    "        song_writer_artists = song.writer_artists\n",
    "        song_year = song.year\n",
    "    except:\n",
    "        song_album = \"null\"\n",
    "        song_album_url = \"null\"\n",
    "        featured_artists = \"null\"\n",
    "        song_lyrics = \"null\"\n",
    "        song_media = \"null\"\n",
    "        song_url = \"null\"\n",
    "        song_writer_artists = \"null\"\n",
    "        song_year = \"null\"\n",
    "        \n",
    "    row = {\n",
    "        \"Year\": all_songs.iloc[i]['Year'],\n",
    "        \"Rank\": all_songs.iloc[i]['Rank'],\n",
    "        \"Song Title\": all_songs.iloc[i]['Song Title'],\n",
    "        \"Artist\": all_songs.iloc[i]['Artist'],\n",
    "        \"Album\": song_album,\n",
    "        \"Album URL\": song_album_url,\n",
    "        \"Featured Artists\": featured_artists,\n",
    "        \"Lyrics\": song_lyrics,\n",
    "        \"Media\": song_media,\n",
    "        \"Song URL\": song_url,\n",
    "        \"Writers\": song_writer_artists,\n",
    "        \"Release Date\": song_year\n",
    "    }\n",
    "    all_song_data = all_song_data.append(row, ignore_index=True)\n",
    "end_time = datetime.now()\n",
    "print(\"\\nCompleted at {}\".format(start_time))\n",
    "print(\"Total time to collect: {}\".format(end_time - start_time))"
   ]
  },
  {
   "cell_type": "code",
   "execution_count": null,
   "metadata": {},
   "outputs": [],
   "source": [
    "# Write all the results from the API to csv\n",
    "all_song_data.to_csv(\"all_songs_data.csv\")"
   ]
  },
  {
   "cell_type": "markdown",
   "metadata": {},
   "source": [
    "## Get data from Spotify"
   ]
  },
  {
   "cell_type": "code",
   "execution_count": 9,
   "metadata": {},
   "outputs": [
    {
     "data": {
      "text/plain": [
       "[{'external_urls': {'spotify': 'https://open.spotify.com/artist/2fSaE6BXtQy0x7R7v9IOmZ'},\n",
       "  'href': 'https://api.spotify.com/v1/artists/2fSaE6BXtQy0x7R7v9IOmZ',\n",
       "  'id': '2fSaE6BXtQy0x7R7v9IOmZ',\n",
       "  'name': 'Aesop Rock',\n",
       "  'type': 'artist',\n",
       "  'uri': 'spotify:artist:2fSaE6BXtQy0x7R7v9IOmZ'}]"
      ]
     },
     "execution_count": 9,
     "metadata": {},
     "output_type": "execute_result"
    }
   ],
   "source": [
    "import spotipy\n",
    "from spotipy.oauth2 import SpotifyClientCredentials #To access authorised Spotify data\n",
    "\n",
    "# Set up access token for API and identify artist\n",
    "client_id = \"Your ID Here\"\n",
    "client_secret = \"Your Token Here\"\n",
    "\n",
    "client_credentials_manager = SpotifyClientCredentials(client_id=client_id, client_secret=client_secret)\n",
    "\n",
    "sp = spotipy.Spotify(client_credentials_manager=client_credentials_manager) #spotify object to access API\n",
    "\n",
    "name = \"Aesop Rock\" #chosen artist\n",
    "result = sp.search(name) #search query\n",
    "result['tracks']['items'][0]['artists']"
   ]
  },
  {
   "cell_type": "code",
   "execution_count": 10,
   "metadata": {},
   "outputs": [
    {
     "data": {
      "text/plain": [
       "['spotify:album:6Cun8XaplQbI9DtM1zPvFr',\n",
       " 'spotify:album:5QKnNnOC78CJRkl9Udrf31',\n",
       " 'spotify:album:6VzGx5oL2WlX06kpjjJ3jp',\n",
       " 'spotify:album:1An1m0S3ZdQy9Uuo476D12',\n",
       " 'spotify:album:5LZS2qqiqBRiEtN6kFstrJ',\n",
       " 'spotify:album:2pfG39PMUa3su3zM6lgOIU',\n",
       " 'spotify:album:7iUK0YF0sRXqnPhY0cSKnw',\n",
       " 'spotify:album:2qEWs070O7BysPeVOWJZ1a',\n",
       " 'spotify:album:1ospGKjZezat2STJw0AusM',\n",
       " 'spotify:album:1kZj0bKp9tzT5fSGItgzSB',\n",
       " 'spotify:album:2m2ilugjopzt2Tq6zEfqkg',\n",
       " 'spotify:album:7mB5yhTfOUdtLdjRAsPY4t',\n",
       " 'spotify:album:3syXRVRYkudG7o5ZQXb9Tt',\n",
       " 'spotify:album:1uRuLJQtC0iP0H8uix3TKB',\n",
       " 'spotify:album:7b9hzKJvQyAM2h62iY2GrC',\n",
       " 'spotify:album:6a5f8Ox6TV6wLjUfbIMauo',\n",
       " 'spotify:album:1EozNWj9YemnvgrpvqHpca',\n",
       " 'spotify:album:4uC2NmWBxzizUR5Q2y2IAg']"
      ]
     },
     "execution_count": 10,
     "metadata": {},
     "output_type": "execute_result"
    }
   ],
   "source": [
    "# Get album names and IDs in separate lists for reference later.\n",
    "\n",
    "#Extract Artist's uri\n",
    "artist_uri = result['tracks']['items'][0]['artists'][0]['uri']\n",
    "#Pull all of the artist's albums\n",
    "sp_albums = sp.artist_albums(artist_uri, album_type='album')\n",
    "#Store artist's albums' names' and uris in separate lists\n",
    "album_names = []\n",
    "album_uris = []\n",
    "for i in range(len(sp_albums['items'])):\n",
    "    album_names.append(sp_albums['items'][i]['name'])\n",
    "    album_uris.append(sp_albums['items'][i]['uri'])\n",
    "    \n",
    "album_names\n",
    "album_uris\n",
    "#Keep names and uris in same order to keep track of duplicate albums"
   ]
  },
  {
   "cell_type": "code",
   "execution_count": 15,
   "metadata": {},
   "outputs": [],
   "source": [
    "# Create function to grab songs from each album\n",
    "\n",
    "def albumSongs(uri):\n",
    "    album = uri #assign album uri to a_name\n",
    "    \n",
    "    spotify_albums[album] = {} #Creates dictionary for that specific album\n",
    "\n",
    "    #Create keys-values of empty lists inside nested dictionary for album\n",
    "    spotify_albums[album]['album'] = [] #create empty list\n",
    "    spotify_albums[album]['track_number'] = []\n",
    "    spotify_albums[album]['id'] = []\n",
    "    spotify_albums[album]['name'] = []\n",
    "    spotify_albums[album]['uri'] = []\n",
    "    \n",
    "    tracks = sp.album_tracks(album) #pull data on album tracks\n",
    "\n",
    "    for n in range(len(tracks['items'])): #for each song track\n",
    "        spotify_albums[album]['album'].append(album_names[album_count]) #append album name tracked via album_count\n",
    "        spotify_albums[album]['track_number'].append(tracks['items'][n]['track_number'])\n",
    "        spotify_albums[album]['id'].append(tracks['items'][n]['id'])\n",
    "        spotify_albums[album]['name'].append(tracks['items'][n]['name'])\n",
    "        spotify_albums[album]['uri'].append(tracks['items'][n]['uri'])\n",
    "        "
   ]
  },
  {
   "cell_type": "code",
   "execution_count": 16,
   "metadata": {},
   "outputs": [
    {
     "name": "stdout",
     "output_type": "stream",
     "text": [
      "Album Malibu Ken songs has been added to spotify_albums dictionary\n",
      "Album Malibu Ken songs has been added to spotify_albums dictionary\n",
      "Album Bushwick (Original Motion Picture Soundtrack) songs has been added to spotify_albums dictionary\n",
      "Album The Impossible Kid songs has been added to spotify_albums dictionary\n",
      "Album The Impossible Kid songs has been added to spotify_albums dictionary\n",
      "Album The Impossible Kid (Instrumental Version) songs has been added to spotify_albums dictionary\n",
      "Album Skelethon [Deluxe Version] songs has been added to spotify_albums dictionary\n",
      "Album Skelethon songs has been added to spotify_albums dictionary\n",
      "Album Skelethon (Instrumental Version) songs has been added to spotify_albums dictionary\n",
      "Album None Shall Pass - Instrumentals And Accapellas songs has been added to spotify_albums dictionary\n",
      "Album None Shall Pass (Bonus Edition) songs has been added to spotify_albums dictionary\n",
      "Album None Shall Pass songs has been added to spotify_albums dictionary\n",
      "Album None Shall Pass songs has been added to spotify_albums dictionary\n",
      "Album Fast Cars, Danger, Fire and Knives songs has been added to spotify_albums dictionary\n",
      "Album Bazooka Tooth songs has been added to spotify_albums dictionary\n",
      "Album Daylight songs has been added to spotify_albums dictionary\n",
      "Album Labor Days songs has been added to spotify_albums dictionary\n",
      "Album Float songs has been added to spotify_albums dictionary\n"
     ]
    }
   ],
   "source": [
    "# Create empty dict to hold songs and loop thru albums with the function  \n",
    "spotify_albums = {}\n",
    "album_count = 0\n",
    "for i in album_uris: #each album\n",
    "    albumSongs(i)\n",
    "    print(\"Album \" + str(album_names[album_count]) + \" songs has been added to spotify_albums dictionary\")\n",
    "    album_count+=1 #Updates album count once all tracks have been added"
   ]
  },
  {
   "cell_type": "code",
   "execution_count": 17,
   "metadata": {},
   "outputs": [],
   "source": [
    "# Create function to add additional key-values to store the audio features of each \n",
    "# album track and append the data into lists representing all the music tracks for that album\n",
    "\n",
    "def audio_features(album):\n",
    "    #Add new key-values to store audio features\n",
    "    spotify_albums[album]['acousticness'] = []\n",
    "    spotify_albums[album]['danceability'] = []\n",
    "    spotify_albums[album]['energy'] = []\n",
    "    spotify_albums[album]['instrumentalness'] = []\n",
    "    spotify_albums[album]['liveness'] = []\n",
    "    spotify_albums[album]['loudness'] = []\n",
    "    spotify_albums[album]['speechiness'] = []\n",
    "    spotify_albums[album]['tempo'] = []\n",
    "    spotify_albums[album]['valence'] = []\n",
    "    spotify_albums[album]['popularity'] = []\n",
    "    #create a track counter\n",
    "    track_count = 0\n",
    "    for track in spotify_albums[album]['uri']:\n",
    "        #pull audio features per track\n",
    "        features = sp.audio_features(track)\n",
    "        \n",
    "        #Append to relevant key-value\n",
    "        spotify_albums[album]['acousticness'].append(features[0]['acousticness'])\n",
    "        spotify_albums[album]['danceability'].append(features[0]['danceability'])\n",
    "        spotify_albums[album]['energy'].append(features[0]['energy'])\n",
    "        spotify_albums[album]['instrumentalness'].append(features[0]['instrumentalness'])\n",
    "        spotify_albums[album]['liveness'].append(features[0]['liveness'])\n",
    "        spotify_albums[album]['loudness'].append(features[0]['loudness'])\n",
    "        spotify_albums[album]['speechiness'].append(features[0]['speechiness'])\n",
    "        spotify_albums[album]['tempo'].append(features[0]['tempo'])\n",
    "        spotify_albums[album]['valence'].append(features[0]['valence'])\n",
    "        #popularity is stored elsewhere\n",
    "        pop = sp.track(track)\n",
    "        spotify_albums[album]['popularity'].append(pop['popularity'])\n",
    "        track_count+=1"
   ]
  },
  {
   "cell_type": "code",
   "execution_count": 18,
   "metadata": {},
   "outputs": [
    {
     "name": "stdout",
     "output_type": "stream",
     "text": [
      "5 playlists completed\n",
      "Loop #: 5\n",
      "Elapsed Time: 39.08202600479126 seconds\n",
      "10 playlists completed\n",
      "Loop #: 10\n",
      "Elapsed Time: 95.86552214622498 seconds\n",
      "15 playlists completed\n",
      "Loop #: 15\n",
      "Elapsed Time: 132.58294224739075 seconds\n"
     ]
    }
   ],
   "source": [
    "# Loop through albums extracting the audio features\n",
    "\n",
    "import time\n",
    "import numpy as np\n",
    "sleep_min = 2\n",
    "sleep_max = 5\n",
    "start_time = time.time()\n",
    "request_count = 0\n",
    "for i in spotify_albums:\n",
    "    audio_features(i)\n",
    "    request_count+=1\n",
    "    if request_count % 5 == 0:\n",
    "        print(str(request_count) + \" playlists completed\")\n",
    "        time.sleep(np.random.uniform(sleep_min, sleep_max))\n",
    "        print('Loop #: {}'.format(request_count))\n",
    "        print('Elapsed Time: {} seconds'.format(time.time() - start_time))"
   ]
  },
  {
   "cell_type": "code",
   "execution_count": 19,
   "metadata": {},
   "outputs": [
    {
     "data": {
      "text/plain": [
       "265"
      ]
     },
     "execution_count": 19,
     "metadata": {},
     "output_type": "execute_result"
    }
   ],
   "source": [
    "# Add data to a new dataframe and dict\n",
    "\n",
    "dic_df = {}\n",
    "dic_df['album'] = []\n",
    "dic_df['track_number'] = []\n",
    "dic_df['id'] = []\n",
    "dic_df['name'] = []\n",
    "dic_df['uri'] = []\n",
    "dic_df['acousticness'] = []\n",
    "dic_df['danceability'] = []\n",
    "dic_df['energy'] = []\n",
    "dic_df['instrumentalness'] = []\n",
    "dic_df['liveness'] = []\n",
    "dic_df['loudness'] = []\n",
    "dic_df['speechiness'] = []\n",
    "dic_df['tempo'] = []\n",
    "dic_df['valence'] = []\n",
    "dic_df['popularity'] = []\n",
    "for album in spotify_albums: \n",
    "    for feature in spotify_albums[album]:\n",
    "        dic_df[feature].extend(spotify_albums[album][feature])\n",
    "        \n",
    "len(dic_df['album'])"
   ]
  },
  {
   "cell_type": "code",
   "execution_count": 33,
   "metadata": {},
   "outputs": [
    {
     "data": {
      "text/plain": [
       "['album',\n",
       " 'track_number',\n",
       " 'id',\n",
       " 'name',\n",
       " 'uri',\n",
       " 'acousticness',\n",
       " 'danceability',\n",
       " 'energy',\n",
       " 'instrumentalness',\n",
       " 'liveness',\n",
       " 'loudness',\n",
       " 'speechiness',\n",
       " 'tempo',\n",
       " 'valence',\n",
       " 'popularity']"
      ]
     },
     "execution_count": 33,
     "metadata": {},
     "output_type": "execute_result"
    }
   ],
   "source": [
    "list(aesop_spot_full.columns)"
   ]
  },
  {
   "cell_type": "code",
   "execution_count": 35,
   "metadata": {},
   "outputs": [
    {
     "name": "stdout",
     "output_type": "stream",
     "text": [
      "265\n",
      "196\n"
     ]
    },
    {
     "data": {
      "text/html": [
       "<div>\n",
       "<style scoped>\n",
       "    .dataframe tbody tr th:only-of-type {\n",
       "        vertical-align: middle;\n",
       "    }\n",
       "\n",
       "    .dataframe tbody tr th {\n",
       "        vertical-align: top;\n",
       "    }\n",
       "\n",
       "    .dataframe thead th {\n",
       "        text-align: right;\n",
       "    }\n",
       "</style>\n",
       "<table border=\"1\" class=\"dataframe\">\n",
       "  <thead>\n",
       "    <tr style=\"text-align: right;\">\n",
       "      <th></th>\n",
       "      <th>album</th>\n",
       "      <th>track_number</th>\n",
       "      <th>id</th>\n",
       "      <th>Song Title</th>\n",
       "      <th>uri</th>\n",
       "      <th>acousticness</th>\n",
       "      <th>danceability</th>\n",
       "      <th>energy</th>\n",
       "      <th>instrumentalness</th>\n",
       "      <th>liveness</th>\n",
       "      <th>loudness</th>\n",
       "      <th>speechiness</th>\n",
       "      <th>tempo</th>\n",
       "      <th>valence</th>\n",
       "      <th>popularity</th>\n",
       "    </tr>\n",
       "  </thead>\n",
       "  <tbody>\n",
       "    <tr>\n",
       "      <th>0</th>\n",
       "      <td>Malibu Ken</td>\n",
       "      <td>1</td>\n",
       "      <td>2YSdttfME0OmOj9mPwHFIK</td>\n",
       "      <td>Corn Maze</td>\n",
       "      <td>spotify:track:2YSdttfME0OmOj9mPwHFIK</td>\n",
       "      <td>0.3630</td>\n",
       "      <td>0.709</td>\n",
       "      <td>0.624</td>\n",
       "      <td>0.000031</td>\n",
       "      <td>0.1090</td>\n",
       "      <td>-6.065</td>\n",
       "      <td>0.289</td>\n",
       "      <td>91.079</td>\n",
       "      <td>0.864</td>\n",
       "      <td>45</td>\n",
       "    </tr>\n",
       "    <tr>\n",
       "      <th>1</th>\n",
       "      <td>Malibu Ken</td>\n",
       "      <td>2</td>\n",
       "      <td>3q3QvTkJ8Ofu07eqB1eG6m</td>\n",
       "      <td>Tuesday</td>\n",
       "      <td>spotify:track:3q3QvTkJ8Ofu07eqB1eG6m</td>\n",
       "      <td>0.1100</td>\n",
       "      <td>0.521</td>\n",
       "      <td>0.731</td>\n",
       "      <td>0.000000</td>\n",
       "      <td>0.1360</td>\n",
       "      <td>-6.997</td>\n",
       "      <td>0.446</td>\n",
       "      <td>168.111</td>\n",
       "      <td>0.723</td>\n",
       "      <td>44</td>\n",
       "    </tr>\n",
       "    <tr>\n",
       "      <th>2</th>\n",
       "      <td>Malibu Ken</td>\n",
       "      <td>3</td>\n",
       "      <td>3PAlzO0osm3cmLxVQtLLVM</td>\n",
       "      <td>Save Our Ship</td>\n",
       "      <td>spotify:track:3PAlzO0osm3cmLxVQtLLVM</td>\n",
       "      <td>0.1510</td>\n",
       "      <td>0.700</td>\n",
       "      <td>0.699</td>\n",
       "      <td>0.000019</td>\n",
       "      <td>0.3150</td>\n",
       "      <td>-6.539</td>\n",
       "      <td>0.285</td>\n",
       "      <td>97.838</td>\n",
       "      <td>0.538</td>\n",
       "      <td>40</td>\n",
       "    </tr>\n",
       "    <tr>\n",
       "      <th>3</th>\n",
       "      <td>Malibu Ken</td>\n",
       "      <td>4</td>\n",
       "      <td>2JSzGK853TkdFkbeABrH41</td>\n",
       "      <td>Sword Box</td>\n",
       "      <td>spotify:track:2JSzGK853TkdFkbeABrH41</td>\n",
       "      <td>0.0986</td>\n",
       "      <td>0.496</td>\n",
       "      <td>0.559</td>\n",
       "      <td>0.000152</td>\n",
       "      <td>0.0734</td>\n",
       "      <td>-8.154</td>\n",
       "      <td>0.367</td>\n",
       "      <td>75.231</td>\n",
       "      <td>0.366</td>\n",
       "      <td>40</td>\n",
       "    </tr>\n",
       "    <tr>\n",
       "      <th>4</th>\n",
       "      <td>Malibu Ken</td>\n",
       "      <td>5</td>\n",
       "      <td>6sJcFtSg42N9Hfpvdfh9MN</td>\n",
       "      <td>Dog Years</td>\n",
       "      <td>spotify:track:6sJcFtSg42N9Hfpvdfh9MN</td>\n",
       "      <td>0.0896</td>\n",
       "      <td>0.806</td>\n",
       "      <td>0.458</td>\n",
       "      <td>0.000024</td>\n",
       "      <td>0.0773</td>\n",
       "      <td>-8.140</td>\n",
       "      <td>0.226</td>\n",
       "      <td>135.890</td>\n",
       "      <td>0.819</td>\n",
       "      <td>40</td>\n",
       "    </tr>\n",
       "  </tbody>\n",
       "</table>\n",
       "</div>"
      ],
      "text/plain": [
       "        album  track_number                      id     Song Title  \\\n",
       "0  Malibu Ken             1  2YSdttfME0OmOj9mPwHFIK      Corn Maze   \n",
       "1  Malibu Ken             2  3q3QvTkJ8Ofu07eqB1eG6m        Tuesday   \n",
       "2  Malibu Ken             3  3PAlzO0osm3cmLxVQtLLVM  Save Our Ship   \n",
       "3  Malibu Ken             4  2JSzGK853TkdFkbeABrH41      Sword Box   \n",
       "4  Malibu Ken             5  6sJcFtSg42N9Hfpvdfh9MN      Dog Years   \n",
       "\n",
       "                                    uri  acousticness  danceability  energy  \\\n",
       "0  spotify:track:2YSdttfME0OmOj9mPwHFIK        0.3630         0.709   0.624   \n",
       "1  spotify:track:3q3QvTkJ8Ofu07eqB1eG6m        0.1100         0.521   0.731   \n",
       "2  spotify:track:3PAlzO0osm3cmLxVQtLLVM        0.1510         0.700   0.699   \n",
       "3  spotify:track:2JSzGK853TkdFkbeABrH41        0.0986         0.496   0.559   \n",
       "4  spotify:track:6sJcFtSg42N9Hfpvdfh9MN        0.0896         0.806   0.458   \n",
       "\n",
       "   instrumentalness  liveness  loudness  speechiness    tempo  valence  \\\n",
       "0          0.000031    0.1090    -6.065        0.289   91.079    0.864   \n",
       "1          0.000000    0.1360    -6.997        0.446  168.111    0.723   \n",
       "2          0.000019    0.3150    -6.539        0.285   97.838    0.538   \n",
       "3          0.000152    0.0734    -8.154        0.367   75.231    0.366   \n",
       "4          0.000024    0.0773    -8.140        0.226  135.890    0.819   \n",
       "\n",
       "   popularity  \n",
       "0          45  \n",
       "1          44  \n",
       "2          40  \n",
       "3          40  \n",
       "4          40  "
      ]
     },
     "execution_count": 35,
     "metadata": {},
     "output_type": "execute_result"
    }
   ],
   "source": [
    "import pandas as pd\n",
    "\n",
    "# Create a data frame with the Spotify data \n",
    "aesop_spot_full = pd.DataFrame.from_dict(dic_df)\n",
    "\n",
    "# Rename column for consistancy for joining\n",
    "aesop_spot_full.rename(columns={'name': 'Song Title'})\n",
    "\n",
    "# Assign colum names for joining with Genious data\n",
    "aesop_spot_full.columns = ['album',\n",
    " 'track_number',\n",
    " 'id',\n",
    " 'Song Title',\n",
    " 'uri',\n",
    " 'acousticness',\n",
    " 'danceability',\n",
    " 'energy',\n",
    " 'instrumentalness',\n",
    " 'liveness',\n",
    " 'loudness',\n",
    " 'speechiness',\n",
    " 'tempo',\n",
    " 'valence',\n",
    " 'popularity']\n",
    "\n",
    "# Remove duplicates \n",
    "print(len(aesop_spot_full))\n",
    "aesop_spot_full = aesop_spot_full.sort_values('popularity', ascending=False).drop_duplicates('Song Title').sort_index()\n",
    "print(len(aesop_spot_full))\n",
    "aesop_spot_full.head()\n"
   ]
  },
  {
   "cell_type": "code",
   "execution_count": 36,
   "metadata": {},
   "outputs": [
    {
     "data": {
      "text/plain": [
       "(196, 15)"
      ]
     },
     "execution_count": 36,
     "metadata": {},
     "output_type": "execute_result"
    }
   ],
   "source": [
    "# Write to csv \n",
    "aesop_spot_full.to_csv(\"aesop_spot_full.csv\")\n",
    "aesop_spot_full.shape"
   ]
  },
  {
   "cell_type": "markdown",
   "metadata": {},
   "source": [
    "# Data Preperation and Cleaning"
   ]
  },
  {
   "cell_type": "code",
   "execution_count": 38,
   "metadata": {},
   "outputs": [
    {
     "data": {
      "text/html": [
       "<div>\n",
       "<style scoped>\n",
       "    .dataframe tbody tr th:only-of-type {\n",
       "        vertical-align: middle;\n",
       "    }\n",
       "\n",
       "    .dataframe tbody tr th {\n",
       "        vertical-align: top;\n",
       "    }\n",
       "\n",
       "    .dataframe thead th {\n",
       "        text-align: right;\n",
       "    }\n",
       "</style>\n",
       "<table border=\"1\" class=\"dataframe\">\n",
       "  <thead>\n",
       "    <tr style=\"text-align: right;\">\n",
       "      <th></th>\n",
       "      <th>Song Title</th>\n",
       "      <th>Album</th>\n",
       "      <th>Release Date</th>\n",
       "      <th>Lyrics</th>\n",
       "    </tr>\n",
       "  </thead>\n",
       "  <tbody>\n",
       "    <tr>\n",
       "      <th>0</th>\n",
       "      <td>None Shall Pass</td>\n",
       "      <td>None Shall Pass</td>\n",
       "      <td>2007-08-28</td>\n",
       "      <td>[Verse 1] Flash that buttery gold Jittery zeit...</td>\n",
       "    </tr>\n",
       "    <tr>\n",
       "      <th>1</th>\n",
       "      <td>Daylight</td>\n",
       "      <td>Labor Days</td>\n",
       "      <td>2001-09-18</td>\n",
       "      <td>[Intro: Sample] Yes, yes, y'all, and you don't...</td>\n",
       "    </tr>\n",
       "    <tr>\n",
       "      <th>2</th>\n",
       "      <td>Zero Dark Thirty</td>\n",
       "      <td>Skelethon</td>\n",
       "      <td>2012-07-10</td>\n",
       "      <td>[Intro] They did not know how long they had be...</td>\n",
       "    </tr>\n",
       "    <tr>\n",
       "      <th>3</th>\n",
       "      <td>Rings</td>\n",
       "      <td>The Impossible Kid</td>\n",
       "      <td>2016-02-16</td>\n",
       "      <td>[Verse 1] Used to draw Hard to admit that I us...</td>\n",
       "    </tr>\n",
       "    <tr>\n",
       "      <th>4</th>\n",
       "      <td>Coffee</td>\n",
       "      <td>None Shall Pass</td>\n",
       "      <td>NaN</td>\n",
       "      <td>[Chorus: Aesop Rock] We don't need no walkie-t...</td>\n",
       "    </tr>\n",
       "  </tbody>\n",
       "</table>\n",
       "</div>"
      ],
      "text/plain": [
       "         Song Title               Album Release Date  \\\n",
       "0   None Shall Pass     None Shall Pass   2007-08-28   \n",
       "1          Daylight          Labor Days   2001-09-18   \n",
       "2  Zero Dark Thirty           Skelethon   2012-07-10   \n",
       "3             Rings  The Impossible Kid   2016-02-16   \n",
       "4            Coffee     None Shall Pass          NaN   \n",
       "\n",
       "                                              Lyrics  \n",
       "0  [Verse 1] Flash that buttery gold Jittery zeit...  \n",
       "1  [Intro: Sample] Yes, yes, y'all, and you don't...  \n",
       "2  [Intro] They did not know how long they had be...  \n",
       "3  [Verse 1] Used to draw Hard to admit that I us...  \n",
       "4  [Chorus: Aesop Rock] We don't need no walkie-t...  "
      ]
     },
     "execution_count": 38,
     "metadata": {},
     "output_type": "execute_result"
    }
   ],
   "source": [
    "# Load the csv for cleaning\n",
    "import pandas as pd \n",
    "df = pd.read_csv(\"all_songs_data.csv\",index_col=0)\n",
    "df = df[['Song Title', 'Album', 'Release Date', 'Lyrics' ]]\n",
    "df.head()"
   ]
  },
  {
   "cell_type": "code",
   "execution_count": 39,
   "metadata": {},
   "outputs": [
    {
     "data": {
      "text/plain": [
       "(177, 4)"
      ]
     },
     "execution_count": 39,
     "metadata": {},
     "output_type": "execute_result"
    }
   ],
   "source": [
    "# Drop any songs that do not have lyrics\n",
    "df = df.dropna(subset=['Lyrics'])\n",
    "df.shape"
   ]
  },
  {
   "cell_type": "code",
   "execution_count": null,
   "metadata": {},
   "outputs": [],
   "source": [
    "# Write csv\n",
    "df.to_csv(\"aesop_full.csv\")"
   ]
  },
  {
   "cell_type": "code",
   "execution_count": 40,
   "metadata": {},
   "outputs": [
    {
     "data": {
      "text/html": [
       "<div>\n",
       "<style scoped>\n",
       "    .dataframe tbody tr th:only-of-type {\n",
       "        vertical-align: middle;\n",
       "    }\n",
       "\n",
       "    .dataframe tbody tr th {\n",
       "        vertical-align: top;\n",
       "    }\n",
       "\n",
       "    .dataframe thead th {\n",
       "        text-align: right;\n",
       "    }\n",
       "</style>\n",
       "<table border=\"1\" class=\"dataframe\">\n",
       "  <thead>\n",
       "    <tr style=\"text-align: right;\">\n",
       "      <th></th>\n",
       "      <th>Song Title</th>\n",
       "      <th>Album</th>\n",
       "      <th>Release Date</th>\n",
       "      <th>Lyrics</th>\n",
       "    </tr>\n",
       "  </thead>\n",
       "  <tbody>\n",
       "    <tr>\n",
       "      <th>121</th>\n",
       "      <td>Tomorrow Morning</td>\n",
       "      <td>Ghosts of the Barbary Coast</td>\n",
       "      <td>NaN</td>\n",
       "      <td>{Intro] In the district called the Barbary Coa...</td>\n",
       "    </tr>\n",
       "  </tbody>\n",
       "</table>\n",
       "</div>"
      ],
      "text/plain": [
       "           Song Title                        Album Release Date  \\\n",
       "121  Tomorrow Morning  Ghosts of the Barbary Coast          NaN   \n",
       "\n",
       "                                                Lyrics  \n",
       "121  {Intro] In the district called the Barbary Coa...  "
      ]
     },
     "execution_count": 40,
     "metadata": {},
     "output_type": "execute_result"
    }
   ],
   "source": [
    "# Check rows based on condition \n",
    "df.loc[df['Album'] == \"Ghosts of the Barbary Coast\"]"
   ]
  },
  {
   "cell_type": "code",
   "execution_count": 41,
   "metadata": {},
   "outputs": [
    {
     "data": {
      "text/plain": [
       "0"
      ]
     },
     "execution_count": 41,
     "metadata": {},
     "output_type": "execute_result"
    }
   ],
   "source": [
    "import warnings\n",
    "warnings.filterwarnings('ignore')\n",
    "\n",
    "# Filter by only solo EP and album releases\n",
    "filter_list = ['None Shall Pass', 'Labor Days', 'Skelethon','The Impossible Kid',\n",
    "               'Daylight', 'Fast Cars, Danger, Fire, and Knives', 'Float', \n",
    "               'Cat Food EP','Bazooka Tooth','Music for Earthworms', 'Appleseed','My Belly', \n",
    "               'Ghosts of the Barbary Coast',]\n",
    "df_1 = df[df.Album.isin(filter_list)]\n",
    "\n",
    "# Truncate dates and deal with missing values \n",
    "df_1.loc[df['Album'] == 'None Shall Pass', 'Release Date'] = 2007   \n",
    "df_1.loc[df['Album'] == 'Labor Days', 'Release Date'] = 2001\n",
    "df_1.loc[df['Album'] == 'Skelethon', 'Release Date'] = 2012\n",
    "df_1.loc[df['Album'] == 'The Impossible Kid', 'Release Date'] = 2016\n",
    "df_1.loc[df['Album'] == 'Daylight', 'Release Date'] = 2002\n",
    "df_1.loc[df['Album'] == 'Fast Cars, Danger, Fire, and Knives', 'Release Date'] = 2005\n",
    "df_1.loc[df['Album'] == 'Float', 'Release Date'] = 2009\n",
    "df_1.loc[df['Album'] == 'Cat Food EP', 'Release Date'] = 2015\n",
    "df_1.loc[df['Album'] == 'Bazooka Tooth', 'Release Date'] = 2003\n",
    "df_1.loc[df['Album'] == 'Music for Earthworms', 'Release Date'] = 1997\n",
    "df_1.loc[df['Album'] == 'Appleseed', 'Release Date'] = 1999\n",
    "df_1.loc[df['Album'] == 'My Belly', 'Release Date'] = 2016\n",
    "df_1.loc[df['Album'] == 'Ghosts of the Barbary Coast', 'Release Date'] = 2008\n",
    "\n",
    "# Check for any Null values\n",
    "df_1.isnull().sum().sum()"
   ]
  },
  {
   "cell_type": "code",
   "execution_count": 42,
   "metadata": {},
   "outputs": [
    {
     "data": {
      "text/plain": [
       "(131, 4)"
      ]
     },
     "execution_count": 42,
     "metadata": {},
     "output_type": "execute_result"
    }
   ],
   "source": [
    "# Get indexes for which column Lyrics is Instrumental\n",
    "indexInst = df_1[ df_1['Lyrics'] == \"[Instrumental]\" ].index\n",
    "# Delete these row indexes from dataFrame\n",
    "df_1.drop(indexInst , inplace=True)\n",
    "\n",
    "# Get indexes for which column Lyrics is Instrumental Sample\n",
    "indexInst2 = df_1[ df_1['Lyrics'] == \"[Instrumental: Sample] Fuck you\" ].index\n",
    "# Delete this row indexes from dataFrame\n",
    "df_1.drop(indexInst2 , inplace=True)\n",
    "\n",
    "# Review\n",
    "df_1.shape"
   ]
  },
  {
   "cell_type": "code",
   "execution_count": 43,
   "metadata": {},
   "outputs": [
    {
     "data": {
      "text/html": [
       "<div>\n",
       "<style scoped>\n",
       "    .dataframe tbody tr th:only-of-type {\n",
       "        vertical-align: middle;\n",
       "    }\n",
       "\n",
       "    .dataframe tbody tr th {\n",
       "        vertical-align: top;\n",
       "    }\n",
       "\n",
       "    .dataframe thead th {\n",
       "        text-align: right;\n",
       "    }\n",
       "</style>\n",
       "<table border=\"1\" class=\"dataframe\">\n",
       "  <thead>\n",
       "    <tr style=\"text-align: right;\">\n",
       "      <th></th>\n",
       "      <th>Song Title</th>\n",
       "      <th>Album</th>\n",
       "      <th>Release Date</th>\n",
       "      <th>Lyrics</th>\n",
       "    </tr>\n",
       "  </thead>\n",
       "  <tbody>\n",
       "    <tr>\n",
       "      <th>147</th>\n",
       "      <td>89.9FM Nighttrain Promo</td>\n",
       "      <td>Music for Earthworms</td>\n",
       "      <td>1997</td>\n",
       "      <td>(What's up this is Aesop Rock for WKCR)  I tra...</td>\n",
       "    </tr>\n",
       "    <tr>\n",
       "      <th>148</th>\n",
       "      <td>Live On 89.9FM Nighttrain</td>\n",
       "      <td>Music for Earthworms</td>\n",
       "      <td>1997</td>\n",
       "      <td>(DJ chatter)  [Verse I]  Check it, in a box ma...</td>\n",
       "    </tr>\n",
       "    <tr>\n",
       "      <th>149</th>\n",
       "      <td>Coordinates</td>\n",
       "      <td>Music for Earthworms</td>\n",
       "      <td>1997</td>\n",
       "      <td>[Les Miserables sample] Platoon of sappers adv...</td>\n",
       "    </tr>\n",
       "    <tr>\n",
       "      <th>172</th>\n",
       "      <td>For The Whole Family</td>\n",
       "      <td>None Shall Pass</td>\n",
       "      <td>2007</td>\n",
       "      <td>[Verse 1: Aesop Rock] Before shooting troops w...</td>\n",
       "    </tr>\n",
       "    <tr>\n",
       "      <th>174</th>\n",
       "      <td>Home Again</td>\n",
       "      <td>Appleseed</td>\n",
       "      <td>1999</td>\n",
       "      <td>Shh...  [Aesop Rock] + (Dose One) (Well or, an...</td>\n",
       "    </tr>\n",
       "  </tbody>\n",
       "</table>\n",
       "</div>"
      ],
      "text/plain": [
       "                    Song Title                 Album Release Date  \\\n",
       "147    89.9FM Nighttrain Promo  Music for Earthworms         1997   \n",
       "148  Live On 89.9FM Nighttrain  Music for Earthworms         1997   \n",
       "149                Coordinates  Music for Earthworms         1997   \n",
       "172       For The Whole Family       None Shall Pass         2007   \n",
       "174                 Home Again             Appleseed         1999   \n",
       "\n",
       "                                                Lyrics  \n",
       "147  (What's up this is Aesop Rock for WKCR)  I tra...  \n",
       "148  (DJ chatter)  [Verse I]  Check it, in a box ma...  \n",
       "149  [Les Miserables sample] Platoon of sappers adv...  \n",
       "172  [Verse 1: Aesop Rock] Before shooting troops w...  \n",
       "174  Shh...  [Aesop Rock] + (Dose One) (Well or, an...  "
      ]
     },
     "execution_count": 43,
     "metadata": {},
     "output_type": "execute_result"
    }
   ],
   "source": [
    "df_1.tail()"
   ]
  },
  {
   "cell_type": "code",
   "execution_count": 45,
   "metadata": {},
   "outputs": [
    {
     "data": {
      "text/plain": [
       "(131, 18)"
      ]
     },
     "execution_count": 45,
     "metadata": {},
     "output_type": "execute_result"
    }
   ],
   "source": [
    "#Join Spotify and Genious data\n",
    "aesop_merged_left = pd.merge(left=df_1,right=aesop_spot_full, how='left', left_on='Song Title', right_on='Song Title')\n",
    "aesop_merged_left."
   ]
  },
  {
   "cell_type": "code",
   "execution_count": 46,
   "metadata": {},
   "outputs": [],
   "source": [
    "# Write full csv\n",
    "aesop_merged_left.to_csv(\"aesop_combined_final.csv\")"
   ]
  },
  {
   "cell_type": "code",
   "execution_count": 47,
   "metadata": {},
   "outputs": [
    {
     "data": {
      "text/plain": [
       "['Song Title',\n",
       " 'Album',\n",
       " 'Release Date',\n",
       " 'Lyrics',\n",
       " 'album',\n",
       " 'track_number',\n",
       " 'id',\n",
       " 'uri',\n",
       " 'acousticness',\n",
       " 'danceability',\n",
       " 'energy',\n",
       " 'instrumentalness',\n",
       " 'liveness',\n",
       " 'loudness',\n",
       " 'speechiness',\n",
       " 'tempo',\n",
       " 'valence',\n",
       " 'popularity']"
      ]
     },
     "execution_count": 47,
     "metadata": {},
     "output_type": "execute_result"
    }
   ],
   "source": [
    "# Review collumn names\n",
    "list(aesop_merged_left.columns)"
   ]
  },
  {
   "cell_type": "code",
   "execution_count": 48,
   "metadata": {},
   "outputs": [
    {
     "data": {
      "text/html": [
       "<div>\n",
       "<style scoped>\n",
       "    .dataframe tbody tr th:only-of-type {\n",
       "        vertical-align: middle;\n",
       "    }\n",
       "\n",
       "    .dataframe tbody tr th {\n",
       "        vertical-align: top;\n",
       "    }\n",
       "\n",
       "    .dataframe thead th {\n",
       "        text-align: right;\n",
       "    }\n",
       "</style>\n",
       "<table border=\"1\" class=\"dataframe\">\n",
       "  <thead>\n",
       "    <tr style=\"text-align: right;\">\n",
       "      <th></th>\n",
       "      <th>Song Title</th>\n",
       "      <th>Album</th>\n",
       "      <th>Release Date</th>\n",
       "      <th>Lyrics</th>\n",
       "      <th>album</th>\n",
       "      <th>acousticness</th>\n",
       "      <th>danceability</th>\n",
       "      <th>energy</th>\n",
       "      <th>instrumentalness</th>\n",
       "      <th>liveness</th>\n",
       "      <th>loudness</th>\n",
       "      <th>speechiness</th>\n",
       "      <th>tempo</th>\n",
       "      <th>valence</th>\n",
       "      <th>popularity</th>\n",
       "    </tr>\n",
       "  </thead>\n",
       "  <tbody>\n",
       "    <tr>\n",
       "      <th>0</th>\n",
       "      <td>None Shall Pass</td>\n",
       "      <td>None Shall Pass</td>\n",
       "      <td>2007</td>\n",
       "      <td>[Verse 1] Flash that buttery gold Jittery zeit...</td>\n",
       "      <td>None Shall Pass</td>\n",
       "      <td>0.1840</td>\n",
       "      <td>0.707</td>\n",
       "      <td>0.683</td>\n",
       "      <td>0.001080</td>\n",
       "      <td>0.108</td>\n",
       "      <td>-8.728</td>\n",
       "      <td>0.0683</td>\n",
       "      <td>116.009</td>\n",
       "      <td>0.567</td>\n",
       "      <td>56.0</td>\n",
       "    </tr>\n",
       "    <tr>\n",
       "      <th>1</th>\n",
       "      <td>Daylight</td>\n",
       "      <td>Labor Days</td>\n",
       "      <td>2001</td>\n",
       "      <td>[Intro: Sample] Yes, yes, y'all, and you don't...</td>\n",
       "      <td>Labor Days</td>\n",
       "      <td>0.0242</td>\n",
       "      <td>0.564</td>\n",
       "      <td>0.758</td>\n",
       "      <td>0.001090</td>\n",
       "      <td>0.376</td>\n",
       "      <td>-6.850</td>\n",
       "      <td>0.2830</td>\n",
       "      <td>92.674</td>\n",
       "      <td>0.597</td>\n",
       "      <td>53.0</td>\n",
       "    </tr>\n",
       "    <tr>\n",
       "      <th>2</th>\n",
       "      <td>Zero Dark Thirty</td>\n",
       "      <td>Skelethon</td>\n",
       "      <td>2012</td>\n",
       "      <td>[Intro] They did not know how long they had be...</td>\n",
       "      <td>Skelethon [Deluxe Version]</td>\n",
       "      <td>0.0636</td>\n",
       "      <td>0.826</td>\n",
       "      <td>0.897</td>\n",
       "      <td>0.000079</td>\n",
       "      <td>0.260</td>\n",
       "      <td>-7.404</td>\n",
       "      <td>0.2110</td>\n",
       "      <td>106.024</td>\n",
       "      <td>0.722</td>\n",
       "      <td>41.0</td>\n",
       "    </tr>\n",
       "    <tr>\n",
       "      <th>3</th>\n",
       "      <td>Rings</td>\n",
       "      <td>The Impossible Kid</td>\n",
       "      <td>2016</td>\n",
       "      <td>[Verse 1] Used to draw Hard to admit that I us...</td>\n",
       "      <td>The Impossible Kid</td>\n",
       "      <td>0.0476</td>\n",
       "      <td>0.808</td>\n",
       "      <td>0.857</td>\n",
       "      <td>0.000888</td>\n",
       "      <td>0.767</td>\n",
       "      <td>-5.404</td>\n",
       "      <td>0.0978</td>\n",
       "      <td>127.939</td>\n",
       "      <td>0.776</td>\n",
       "      <td>50.0</td>\n",
       "    </tr>\n",
       "    <tr>\n",
       "      <th>4</th>\n",
       "      <td>Coffee</td>\n",
       "      <td>None Shall Pass</td>\n",
       "      <td>2007</td>\n",
       "      <td>[Chorus: Aesop Rock] We don't need no walkie-t...</td>\n",
       "      <td>None Shall Pass (Bonus Edition)</td>\n",
       "      <td>0.1330</td>\n",
       "      <td>0.453</td>\n",
       "      <td>0.790</td>\n",
       "      <td>0.000000</td>\n",
       "      <td>0.193</td>\n",
       "      <td>-8.676</td>\n",
       "      <td>0.5210</td>\n",
       "      <td>77.234</td>\n",
       "      <td>0.175</td>\n",
       "      <td>35.0</td>\n",
       "    </tr>\n",
       "  </tbody>\n",
       "</table>\n",
       "</div>"
      ],
      "text/plain": [
       "         Song Title               Album Release Date  \\\n",
       "0   None Shall Pass     None Shall Pass         2007   \n",
       "1          Daylight          Labor Days         2001   \n",
       "2  Zero Dark Thirty           Skelethon         2012   \n",
       "3             Rings  The Impossible Kid         2016   \n",
       "4            Coffee     None Shall Pass         2007   \n",
       "\n",
       "                                              Lyrics  \\\n",
       "0  [Verse 1] Flash that buttery gold Jittery zeit...   \n",
       "1  [Intro: Sample] Yes, yes, y'all, and you don't...   \n",
       "2  [Intro] They did not know how long they had be...   \n",
       "3  [Verse 1] Used to draw Hard to admit that I us...   \n",
       "4  [Chorus: Aesop Rock] We don't need no walkie-t...   \n",
       "\n",
       "                             album  acousticness  danceability  energy  \\\n",
       "0                  None Shall Pass        0.1840         0.707   0.683   \n",
       "1                       Labor Days        0.0242         0.564   0.758   \n",
       "2       Skelethon [Deluxe Version]        0.0636         0.826   0.897   \n",
       "3               The Impossible Kid        0.0476         0.808   0.857   \n",
       "4  None Shall Pass (Bonus Edition)        0.1330         0.453   0.790   \n",
       "\n",
       "   instrumentalness  liveness  loudness  speechiness    tempo  valence  \\\n",
       "0          0.001080     0.108    -8.728       0.0683  116.009    0.567   \n",
       "1          0.001090     0.376    -6.850       0.2830   92.674    0.597   \n",
       "2          0.000079     0.260    -7.404       0.2110  106.024    0.722   \n",
       "3          0.000888     0.767    -5.404       0.0978  127.939    0.776   \n",
       "4          0.000000     0.193    -8.676       0.5210   77.234    0.175   \n",
       "\n",
       "   popularity  \n",
       "0        56.0  \n",
       "1        53.0  \n",
       "2        41.0  \n",
       "3        50.0  \n",
       "4        35.0  "
      ]
     },
     "execution_count": 48,
     "metadata": {},
     "output_type": "execute_result"
    }
   ],
   "source": [
    "# Write subset of columns for final analysis csv\n",
    "df_2 = aesop_merged_left[['Song Title',\n",
    " 'Album',\n",
    " 'Release Date',\n",
    " 'Lyrics',\n",
    " 'album',\n",
    " 'acousticness',\n",
    " 'danceability',\n",
    " 'energy',\n",
    " 'instrumentalness',\n",
    " 'liveness',\n",
    " 'loudness',\n",
    " 'speechiness',\n",
    " 'tempo',\n",
    " 'valence',\n",
    " 'popularity']]\n",
    "\n",
    "df_2.to_csv(\"aesop_final_analysis.csv\")\n",
    "df_2.head()"
   ]
  },
  {
   "cell_type": "code",
   "execution_count": null,
   "metadata": {},
   "outputs": [],
   "source": []
  }
 ],
 "metadata": {
  "kernelspec": {
   "display_name": "Python 3",
   "language": "python",
   "name": "python3"
  },
  "language_info": {
   "codemirror_mode": {
    "name": "ipython",
    "version": 3
   },
   "file_extension": ".py",
   "mimetype": "text/x-python",
   "name": "python",
   "nbconvert_exporter": "python",
   "pygments_lexer": "ipython3",
   "version": "3.7.7"
  },
  "toc": {
   "base_numbering": 1,
   "nav_menu": {},
   "number_sections": true,
   "sideBar": true,
   "skip_h1_title": false,
   "title_cell": "Table of Contents",
   "title_sidebar": "Contents",
   "toc_cell": false,
   "toc_position": {},
   "toc_section_display": true,
   "toc_window_display": false
  }
 },
 "nbformat": 4,
 "nbformat_minor": 2
}
